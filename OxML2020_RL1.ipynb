{
  "nbformat": 4,
  "nbformat_minor": 0,
  "metadata": {
    "colab": {
      "name": "OxML2020_RL1.ipynb",
      "provenance": [],
      "toc_visible": true
    },
    "kernelspec": {
      "name": "python3",
      "display_name": "Python 3"
    },
    "widgets": {
      "application/vnd.jupyter.widget-state+json": {
        "32e4385c050341e68b59e55886d62f5b": {
          "model_module": "@jupyter-widgets/controls",
          "model_name": "VBoxModel",
          "state": {
            "_view_name": "VBoxView",
            "_dom_classes": [
              "widget-interact"
            ],
            "_model_name": "VBoxModel",
            "_view_module": "@jupyter-widgets/controls",
            "_model_module_version": "1.5.0",
            "_view_count": null,
            "_view_module_version": "1.5.0",
            "box_style": "",
            "layout": "IPY_MODEL_4d7afd0f871948a1b5dac646d5e89ba2",
            "_model_module": "@jupyter-widgets/controls",
            "children": [
              "IPY_MODEL_0cf69a08621f42b78812cd3323a03d5b",
              "IPY_MODEL_fde43f7a24424bb3a79c7b47ed87fc88",
              "IPY_MODEL_ae651da54edb4175ba7b0115615cbbe6"
            ]
          }
        },
        "4d7afd0f871948a1b5dac646d5e89ba2": {
          "model_module": "@jupyter-widgets/base",
          "model_name": "LayoutModel",
          "state": {
            "_view_name": "LayoutView",
            "grid_template_rows": null,
            "right": null,
            "justify_content": null,
            "_view_module": "@jupyter-widgets/base",
            "overflow": null,
            "_model_module_version": "1.2.0",
            "_view_count": null,
            "flex_flow": null,
            "width": null,
            "min_width": null,
            "border": null,
            "align_items": null,
            "bottom": null,
            "_model_module": "@jupyter-widgets/base",
            "top": null,
            "grid_column": null,
            "overflow_y": null,
            "overflow_x": null,
            "grid_auto_flow": null,
            "grid_area": null,
            "grid_template_columns": null,
            "flex": null,
            "_model_name": "LayoutModel",
            "justify_items": null,
            "grid_row": null,
            "max_height": null,
            "align_content": null,
            "visibility": null,
            "align_self": null,
            "height": null,
            "min_height": null,
            "padding": null,
            "grid_auto_rows": null,
            "grid_gap": null,
            "max_width": null,
            "order": null,
            "_view_module_version": "1.2.0",
            "grid_template_areas": null,
            "object_position": null,
            "object_fit": null,
            "grid_auto_columns": null,
            "margin": null,
            "display": null,
            "left": null
          }
        },
        "0cf69a08621f42b78812cd3323a03d5b": {
          "model_module": "@jupyter-widgets/controls",
          "model_name": "IntSliderModel",
          "state": {
            "_view_name": "IntSliderView",
            "style": "IPY_MODEL_086193d300544786ad5cefa4a877d1b7",
            "_dom_classes": [],
            "description": "k",
            "step": 1,
            "_model_name": "IntSliderModel",
            "orientation": "horizontal",
            "max": 30,
            "_view_module": "@jupyter-widgets/controls",
            "_model_module_version": "1.5.0",
            "value": 5,
            "_view_count": null,
            "disabled": false,
            "_view_module_version": "1.5.0",
            "min": -10,
            "continuous_update": true,
            "readout_format": "d",
            "description_tooltip": null,
            "readout": true,
            "_model_module": "@jupyter-widgets/controls",
            "layout": "IPY_MODEL_c7c9b77b9c34421f94a4feba3fe9aec7"
          }
        },
        "fde43f7a24424bb3a79c7b47ed87fc88": {
          "model_module": "@jupyter-widgets/controls",
          "model_name": "ButtonModel",
          "state": {
            "_view_name": "ButtonView",
            "style": "IPY_MODEL_3b16db2ff4224a9aba198780f57d4d91",
            "_dom_classes": [],
            "description": "Run Interact",
            "_model_name": "ButtonModel",
            "button_style": "",
            "_view_module": "@jupyter-widgets/controls",
            "_model_module_version": "1.5.0",
            "tooltip": "",
            "_view_count": null,
            "disabled": false,
            "_view_module_version": "1.5.0",
            "layout": "IPY_MODEL_ccf12688e1824991871c21ee13380a2a",
            "_model_module": "@jupyter-widgets/controls",
            "icon": ""
          }
        },
        "ae651da54edb4175ba7b0115615cbbe6": {
          "model_module": "@jupyter-widgets/output",
          "model_name": "OutputModel",
          "state": {
            "_view_name": "OutputView",
            "msg_id": "",
            "_dom_classes": [],
            "_model_name": "OutputModel",
            "outputs": [
              {
                "output_type": "display_data",
                "metadata": {
                  "tags": [],
                  "needs_background": "light"
                },
                "image/png": "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\n",
                "text/plain": "<Figure size 432x288 with 1 Axes>"
              },
              {
                "output_type": "display_data",
                "metadata": {
                  "tags": [],
                  "needs_background": "light"
                },
                "image/png": "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\n",
                "text/plain": "<Figure size 432x288 with 1 Axes>"
              }
            ],
            "_view_module": "@jupyter-widgets/output",
            "_model_module_version": "1.0.0",
            "_view_count": null,
            "_view_module_version": "1.0.0",
            "layout": "IPY_MODEL_5c1134172e0e4903a861fac39a778bb9",
            "_model_module": "@jupyter-widgets/output"
          }
        },
        "086193d300544786ad5cefa4a877d1b7": {
          "model_module": "@jupyter-widgets/controls",
          "model_name": "SliderStyleModel",
          "state": {
            "_view_name": "StyleView",
            "handle_color": null,
            "_model_name": "SliderStyleModel",
            "description_width": "",
            "_view_module": "@jupyter-widgets/base",
            "_model_module_version": "1.5.0",
            "_view_count": null,
            "_view_module_version": "1.2.0",
            "_model_module": "@jupyter-widgets/controls"
          }
        },
        "c7c9b77b9c34421f94a4feba3fe9aec7": {
          "model_module": "@jupyter-widgets/base",
          "model_name": "LayoutModel",
          "state": {
            "_view_name": "LayoutView",
            "grid_template_rows": null,
            "right": null,
            "justify_content": null,
            "_view_module": "@jupyter-widgets/base",
            "overflow": null,
            "_model_module_version": "1.2.0",
            "_view_count": null,
            "flex_flow": null,
            "width": null,
            "min_width": null,
            "border": null,
            "align_items": null,
            "bottom": null,
            "_model_module": "@jupyter-widgets/base",
            "top": null,
            "grid_column": null,
            "overflow_y": null,
            "overflow_x": null,
            "grid_auto_flow": null,
            "grid_area": null,
            "grid_template_columns": null,
            "flex": null,
            "_model_name": "LayoutModel",
            "justify_items": null,
            "grid_row": null,
            "max_height": null,
            "align_content": null,
            "visibility": null,
            "align_self": null,
            "height": null,
            "min_height": null,
            "padding": null,
            "grid_auto_rows": null,
            "grid_gap": null,
            "max_width": null,
            "order": null,
            "_view_module_version": "1.2.0",
            "grid_template_areas": null,
            "object_position": null,
            "object_fit": null,
            "grid_auto_columns": null,
            "margin": null,
            "display": null,
            "left": null
          }
        },
        "3b16db2ff4224a9aba198780f57d4d91": {
          "model_module": "@jupyter-widgets/controls",
          "model_name": "ButtonStyleModel",
          "state": {
            "_view_name": "StyleView",
            "_model_name": "ButtonStyleModel",
            "_view_module": "@jupyter-widgets/base",
            "_model_module_version": "1.5.0",
            "_view_count": null,
            "button_color": null,
            "font_weight": "",
            "_view_module_version": "1.2.0",
            "_model_module": "@jupyter-widgets/controls"
          }
        },
        "ccf12688e1824991871c21ee13380a2a": {
          "model_module": "@jupyter-widgets/base",
          "model_name": "LayoutModel",
          "state": {
            "_view_name": "LayoutView",
            "grid_template_rows": null,
            "right": null,
            "justify_content": null,
            "_view_module": "@jupyter-widgets/base",
            "overflow": null,
            "_model_module_version": "1.2.0",
            "_view_count": null,
            "flex_flow": null,
            "width": null,
            "min_width": null,
            "border": null,
            "align_items": null,
            "bottom": null,
            "_model_module": "@jupyter-widgets/base",
            "top": null,
            "grid_column": null,
            "overflow_y": null,
            "overflow_x": null,
            "grid_auto_flow": null,
            "grid_area": null,
            "grid_template_columns": null,
            "flex": null,
            "_model_name": "LayoutModel",
            "justify_items": null,
            "grid_row": null,
            "max_height": null,
            "align_content": null,
            "visibility": null,
            "align_self": null,
            "height": null,
            "min_height": null,
            "padding": null,
            "grid_auto_rows": null,
            "grid_gap": null,
            "max_width": null,
            "order": null,
            "_view_module_version": "1.2.0",
            "grid_template_areas": null,
            "object_position": null,
            "object_fit": null,
            "grid_auto_columns": null,
            "margin": null,
            "display": null,
            "left": null
          }
        },
        "5c1134172e0e4903a861fac39a778bb9": {
          "model_module": "@jupyter-widgets/base",
          "model_name": "LayoutModel",
          "state": {
            "_view_name": "LayoutView",
            "grid_template_rows": null,
            "right": null,
            "justify_content": null,
            "_view_module": "@jupyter-widgets/base",
            "overflow": null,
            "_model_module_version": "1.2.0",
            "_view_count": null,
            "flex_flow": null,
            "width": null,
            "min_width": null,
            "border": null,
            "align_items": null,
            "bottom": null,
            "_model_module": "@jupyter-widgets/base",
            "top": null,
            "grid_column": null,
            "overflow_y": null,
            "overflow_x": null,
            "grid_auto_flow": null,
            "grid_area": null,
            "grid_template_columns": null,
            "flex": null,
            "_model_name": "LayoutModel",
            "justify_items": null,
            "grid_row": null,
            "max_height": null,
            "align_content": null,
            "visibility": null,
            "align_self": null,
            "height": null,
            "min_height": null,
            "padding": null,
            "grid_auto_rows": null,
            "grid_gap": null,
            "max_width": null,
            "order": null,
            "_view_module_version": "1.2.0",
            "grid_template_areas": null,
            "object_position": null,
            "object_fit": null,
            "grid_auto_columns": null,
            "margin": null,
            "display": null,
            "left": null
          }
        }
      }
    }
  },
  "cells": [
    {
      "cell_type": "markdown",
      "metadata": {
        "id": "KMcewmfiGZAM",
        "colab_type": "text"
      },
      "source": [
        "---\n",
        "#OxML 2020: Reinforcement Learning Part 1\n",
        "\n",
        "**Introduction to Reinforcement Learning and Bandit Problem**\n",
        "\n",
        "**content creator:** Fatemeh Abdollahi\n",
        "\n",
        "\n",
        "---\n",
        "\n",
        "\n",
        "\n"
      ]
    },
    {
      "cell_type": "markdown",
      "metadata": {
        "id": "M1OBA1Tj5cMV",
        "colab_type": "text"
      },
      "source": [
        "#Section 0: Introduction\n",
        "\n",
        "Using training information that evaluates the actions are taken rather than instructs by giving correct actions, is the most critical feature distinguishing reinforcement learning from other types of learning. This creates the need for actively exploring for an explicit search for good behaviour. \n",
        "\n",
        "**Purely evaluative feedback** indicates how good the action taken was, but not whether it was the best or the worst action possible. However, **purely instructive feedback** indicates the correct action to take, independently of the action taken. This kind of feedback is the basis of **supervised learning**. \n",
        "\n",
        "In this notebook, we study the evaluative aspect of reinforcement learning in a simplified setting, which does not involve learning to act in more than one situation. \n",
        "\n",
        "\n",
        "\n",
        "\n"
      ]
    },
    {
      "cell_type": "markdown",
      "metadata": {
        "id": "WlYs4cQke6GQ",
        "colab_type": "text"
      },
      "source": [
        "#Setup"
      ]
    },
    {
      "cell_type": "code",
      "metadata": {
        "id": "FJaI8XkMe5WS",
        "colab_type": "code",
        "colab": {}
      },
      "source": [
        "# Imports\n",
        "from __future__ import print_function\n",
        "import matplotlib.pyplot as plt\n",
        "import numpy as np\n",
        "import seaborn as sns\n",
        "import ipywidgets as widgets"
      ],
      "execution_count": null,
      "outputs": []
    },
    {
      "cell_type": "markdown",
      "metadata": {
        "id": "h4ALgX174fOm",
        "colab_type": "text"
      },
      "source": [
        "# Section 1: Multi-Armed Bandit\n",
        "\n",
        "Multi-Arm Bandit problems are the classic reinforcement learning problem and some of the simplest ones to solve. We have an agent who repeatedly faced with a choice among k different actions. After each choice, it receives a reward that is returned according to a given underlying probability distribution. The game is played over many episodes, and the goal is to maximize the expected total reward or to find the arm with the highest mean value.\n",
        "\n",
        "Consider a doctor who wants to choose between experimental treatments for a series of seriously ill patients. So each action and reward can be defined as the selection of treatment and the patient's survival or well-being, respectively."
      ]
    },
    {
      "cell_type": "markdown",
      "metadata": {
        "id": "bUYkct8H4U1W",
        "colab_type": "text"
      },
      "source": [
        "##Section 1.1: Choosing Action\n",
        "   \n",
        "The strategy for choosing actions based on our expectations is defined as *policy* (often denoted $\\pi$). We could have a random policy -- just pick an arm at random each time -- though this doesn't seem likely to be capable of optimizing our reward. \n",
        "\n",
        "In our *k*-armed bandit problem, each of the *k* actions has an expected or mean reward given that action is selected; it is defined as the value of that arm. We denote the action selected on time step $t$ as $A_{t}$, and the corresponding reward as $R_{t}$. \n",
        "\n",
        "\\begin{align}\n",
        "q_*(a) \\doteq \\mathbb{E} [R_{t} | A_{t} = a]\n",
        "\\end{align}\n",
        " \n",
        "In practice, this is often represented as an array of values, where each action's value is a different element in the array.\n",
        "\n",
        "If you knew the value of each action, then solving the k-armed bandit problem would be easy: you would always select the action with the highest value. We assume that you do not know the action values with certainty, although you may have estimates. We denote the estimated value of action $a$ at time step $t$ as $Q_{t}(a)$. We would like $Q_{t}(a)$ to be close to $q_{*}(a)$.\n",
        "\n",
        "An obvious choice would be to take the action with the highest value w.r.t $Q_{t}$. This is referred to as the *greedy* policy:\n",
        "\n",
        "\\begin{align}\n",
        "A_{t} = \\text{argmax}_{a} \\; Q_{t} (a)\n",
        "\\end{align}\n",
        "\n",
        "where our choice action is the one that maximizes the current value function. While you are following greedy policy, you are *exploiting* your current knowledge of the value of the actions. However, if you select one of the *nongreedy* actions, then you are *exploring*, because you can improve your estimate of the nongreedy action's value as well. \n",
        "\n",
        "So, the greedy policy does have a fatal flaw: it easily gets trapped in local maxima. It never explores to see what it hasn't seen before if one option is already better than the others. This leads us to a fundamental challenge in coming up with effective policies."
      ]
    },
    {
      "cell_type": "markdown",
      "metadata": {
        "id": "dhNskMDmR8QZ",
        "colab_type": "text"
      },
      "source": [
        "##Section 1.2: The Exploitation-Exploration Dilemma\n",
        "\n",
        "*Exploitation* is the right thing to do to maximize the expected reward on the one step, but *exploration* may produce the greater total reward in the long run, if we always stick to the safe bet, we don't know what we are missing. Sometimes we aren't missing much of anything, and regret not sticking with our preferred choice, yet other times we stumble upon something new that was way better than we thought.\n",
        "\n",
        "If you have many time steps ahead on which to make action selections, then it may be better to explore the nongreedy actions and discover which of them are better than the greedy action. Reward is lower in the short run, during exploration, but higher in the long run because after you have discovered the better actions, you can exploit them many times. \n",
        "\n",
        "Because it is not possible both to explore and to exploit with any single action selection, one often refers to the “conflict” between exploration and exploitation.\n",
        "\n",
        "In any specific case, whether it is better to explore or exploit depends in a complex way on the precise values of the estimates, uncertainties, and the number of remaining steps. There are many sophisticated methods for balancing exploration and exploitation for particular mathematical formulations of the k-armed bandit and related problems.\n",
        "\n",
        "A simple extension to our greedy policy is to add some randomness. For instance, a coin flip -- heads we take the best choice now, tails we pick one at random. This is referred to as the $\\epsilon$-greedy policy:\n",
        "\n",
        "\\begin{align}\n",
        "A \\leftarrow\n",
        "        \\begin{cases}\n",
        "        \\text{argmax}_{a} \\; Q_{t} (a)    & \\quad \\text {with probability  1 - }\\epsilon  \\\\\n",
        "        \\text{a random action}        & \\quad \\text{with probibility } \\epsilon \n",
        "        \\end{cases} \n",
        "\\end{align}\n",
        "\n",
        "which is to say that the probability of selecting the greedy choice is equal to 1 - $\\epsilon$ for $\\epsilon \\in [0,1]$ otherwise we select the action at random.\n",
        "\n",
        "Despite its relative simplicity, the epsilon-greedy policy is quite effective, which leads to its general popularity."
      ]
    },
    {
      "cell_type": "markdown",
      "metadata": {
        "id": "cyobUtGycgxx",
        "colab_type": "text"
      },
      "source": [
        "### Exercise 1: Implement Epsilon-Greedy\n",
        "\n",
        "In this exercise you will implement the epsilon-greedy algorithm for deciding which action to take from a set of possible actions given their value function and a probability $\\epsilon$ of simply chosing one at random. \n",
        "\n",
        "HINT: You may find [`np.random.random`](https://numpy.org/doc/stable/reference/random/generated/numpy.random.random.html), [`np.random.choice`](https://numpy.org/doc/stable/reference/random/generated/numpy.random.choice.html), and [`np.argmax`](https://numpy.org/doc/stable/reference/generated/numpy.argmax.html) useful here."
      ]
    },
    {
      "cell_type": "code",
      "metadata": {
        "id": "u6VR4L2Tw_jT",
        "colab_type": "code",
        "colab": {}
      },
      "source": [
        "def choose_action(qEst, epsilon):\n",
        "  # write a boolean expression that determines if we should take the best action\n",
        "  be_greedy = ...\n",
        "  if be_greedy:\n",
        "    # write an expression for selecting the best action from the action values\n",
        "    action = ...\n",
        "  else:\n",
        "    # write an expression for selecting a random action\n",
        "    action = ...\n",
        "\n",
        "  return action"
      ],
      "execution_count": null,
      "outputs": []
    },
    {
      "cell_type": "markdown",
      "metadata": {
        "id": "-1EQJiBXdkw_",
        "colab_type": "text"
      },
      "source": [
        "##Section 1.3: Learning from Reward\n",
        "\n",
        "Now that we have a policy for deciding what to do, how do we learn from our actions?\n",
        "\n",
        "One way to do this is just to keep a record of every result we ever got and use the averages for each action. If we have a potentially very long-running episode, the computational cost of keeping all these values and recomputing the mean over and over again isn't ideal. Instead, we can use a streaming mean calculation, which looks like this:\n",
        "\n",
        "\\begin{align}\n",
        "q_{t+1}(a) \\leftarrow q_{t}(a) + \\frac{1}{n_t(a)} (r_{t} - q_{t}(a))\n",
        "\\end{align}\n",
        "\n",
        "where our action-value function $q_t(a)$ is the mean of the rewards of action $a$ seen so far, $n_t$ is the number of $a$ is taken until time $t$, and $r_t$ is the reward just received for taking action $a$."
      ]
    },
    {
      "cell_type": "markdown",
      "metadata": {
        "id": "EWaoRnFkgwhR",
        "colab_type": "text"
      },
      "source": [
        "###Exercise 2: Updating Action Value\n",
        "\n",
        "In this exercise, you will implement the action-value update rule above. The function will take in the action-value function represented as an array $q$, the action taken, the true action-value $q_{*} $, and an array that keeps how many times each action has been selected. The function will return the reward, action_count, and updated value for the selected action."
      ]
    },
    {
      "cell_type": "code",
      "metadata": {
        "id": "NnfyLDoAxx5b",
        "colab_type": "code",
        "colab": {}
      },
      "source": [
        "def take_action(action, qEst, qTrue, action_count):\n",
        "  # generate the reward under N(real reward, 1)\n",
        "  reward = np.random.randn() + qTrue[action]\n",
        "  action_count[action] += 1\n",
        "  # update estimation using sample averages\n",
        "  qEst[action] = ...\n",
        "\n",
        "  return reward, action_count, qEst"
      ],
      "execution_count": null,
      "outputs": []
    },
    {
      "cell_type": "markdown",
      "metadata": {
        "id": "aI1KeWakipO0",
        "colab_type": "text"
      },
      "source": [
        "##Exercise 3: Playing with Bandit\n",
        "\n",
        "In this exercise, you should use ```\n",
        "choose_action(...)``` and ```\n",
        "take_action(...)``` to play with your Bandit. The inputs of ```\n",
        "play_Bandit(...)``` are  1)the number of plays, 2)maximum time step that we would like to play 3)epsilon for $\\epsilon-greedy$  policy, and 4) the number of arms that we have in our problem.\n",
        "\n",
        "The outputs are 1)the average of the reward received up to time step $t$ over the number of plays (to have more smooth graph), and 2)the percentage of taking the best action at time $t$ over the number of plays."
      ]
    },
    {
      "cell_type": "code",
      "metadata": {
        "id": "px2I3aiy0b35",
        "colab_type": "code",
        "colab": {}
      },
      "source": [
        "def play_Bandit(n_Bandits, max_time_step, epsilon, k):\n",
        "\n",
        "  average_rewards = np.zeros((max_time_step))\n",
        "  bestActionCounts = np.zeros((max_time_step))\n",
        "\n",
        "  for i in range (0, n_Bandits):\n",
        "    #reset the environment (each i is a new experiment)\n",
        "    \n",
        "    #initial the estimated q values and action_count\n",
        "    qEst = ...\n",
        "    action_count = ...\n",
        "\n",
        "    qTrue = []\n",
        "    for i in range(0, k):\n",
        "      # initialize real rewards with N(0,1) distribution\n",
        "      qTrue.append(np.random.randn())\n",
        "\n",
        "    #determine the best action w.r.t. true q values\n",
        "    bestAction = ...\n",
        "\n",
        "    #lets play with k-armed Bandit\n",
        "    for time_step in range(0, max_time_step):\n",
        "      #choose action based on the policy\n",
        "      action = ...\n",
        "      #take the selected action\n",
        "      reward, action_count, qEst = ...\n",
        "      average_rewards[time_step] += reward\n",
        "\n",
        "      if action == bestAction:\n",
        "        bestActionCounts[time_step] += 1\n",
        "  \n",
        "  bestActionCounts /= n_Bandits\n",
        "  average_rewards /= n_Bandits\n",
        "  return bestActionCounts, average_rewards\n"
      ],
      "execution_count": null,
      "outputs": []
    },
    {
      "cell_type": "markdown",
      "metadata": {
        "id": "sDQNPc475RDA",
        "colab_type": "text"
      },
      "source": [
        "So let's see the averaged reward and the percentage of choosing the best action for different epsilons: ``` [0, 0.1, 0.01] ```!\n",
        "\n"
      ]
    },
    {
      "cell_type": "code",
      "metadata": {
        "id": "ewJ4x1J37nnA",
        "colab_type": "code",
        "cellView": "form",
        "colab": {
          "base_uri": "https://localhost:8080/",
          "height": 541
        },
        "outputId": "a717594b-82ae-4fa1-ce64-98770a19553b"
      },
      "source": [
        "#@title averaged reward and %taking best action \n",
        "figureIndex = 0\n",
        "def epsilonGreedy(nBandits, max_time_step, k):\n",
        "  epsilons = [0, 0.1, 0.01]\n",
        "  bestActionCounts_all =[]\n",
        "  averageRewards_all =[]\n",
        "  for eps in epsilons:\n",
        "    bestActionCounts, averageRewards = play_Bandit(nBandits, max_time_step, eps, k)\n",
        "    bestActionCounts_all.append(bestActionCounts)\n",
        "    averageRewards_all.append(averageRewards)\n",
        "\n",
        "  global figureIndex\n",
        "  plt.figure(figureIndex)\n",
        "  figureIndex += 1\n",
        "  for eps, counts in zip(epsilons, bestActionCounts_all):\n",
        "      plt.plot(counts, label='epsilon = '+str(eps))\n",
        "  plt.xlabel('Steps')\n",
        "  plt.ylabel('% optimal action')\n",
        "  plt.legend()\n",
        "  plt.figure(figureIndex)\n",
        "  figureIndex += 1\n",
        "  for eps, rewards in zip(epsilons, averageRewards_all):\n",
        "      plt.plot(rewards, label='epsilon = '+str(eps))\n",
        "  plt.xlabel('Steps')\n",
        "  plt.ylabel('average reward')\n",
        "  plt.legend()\n",
        "\n",
        "  plt.show()\n",
        "\n",
        "epsilonGreedy(2000, 1000, 10)"
      ],
      "execution_count": null,
      "outputs": [
        {
          "output_type": "display_data",
          "data": {
            "image/png": "[encoded data removed]",
            "text/plain": [
              "<Figure size 432x288 with 1 Axes>"
            ]
          },
          "metadata": {
            "tags": [],
            "needs_background": "light"
          }
        },
        {
          "output_type": "display_data",
          "data": {
            "image/png": "[encoded data removed]",
            "text/plain": [
              "<Figure size 432x288 with 1 Axes>"
            ]
          },
          "metadata": {
            "tags": [],
            "needs_background": "light"
          }
        }
      ]
    },
    {
      "cell_type": "markdown",
      "metadata": {
        "id": "Wz6q8jrs9UNi",
        "colab_type": "text"
      },
      "source": [
        "##Live Show: Number of Arms\n",
        "\n",
        "Let's try different number of arms and see its effect on our graphs!"
      ]
    },
    {
      "cell_type": "code",
      "metadata": {
        "id": "A8Qmy3sW6UI8",
        "colab_type": "code",
        "cellView": "form",
        "colab": {
          "base_uri": "https://localhost:8080/",
          "height": 605,
          "referenced_widgets": [
            "32e4385c050341e68b59e55886d62f5b",
            "4d7afd0f871948a1b5dac646d5e89ba2",
            "0cf69a08621f42b78812cd3323a03d5b",
            "fde43f7a24424bb3a79c7b47ed87fc88",
            "ae651da54edb4175ba7b0115615cbbe6",
            "086193d300544786ad5cefa4a877d1b7",
            "c7c9b77b9c34421f94a4feba3fe9aec7",
            "3b16db2ff4224a9aba198780f57d4d91",
            "ccf12688e1824991871c21ee13380a2a",
            "5c1134172e0e4903a861fac39a778bb9"
          ]
        },
        "outputId": "7b9d089e-5f22-4266-aec1-1e87da68a4cd"
      },
      "source": [
        "#@title\n",
        "\n",
        "#@markdown Make sure you execute this cell to enable the widget!\n",
        "\n",
        "@widgets.interact_manual(n_arms=widgets.IntSlider(10, min=2, max=15))\n",
        "def explore_bandit_parameters(k=10):\n",
        "  epsilonGreedy(1000, 500, k)"
      ],
      "execution_count": null,
      "outputs": [
        {
          "output_type": "display_data",
          "data": {
            "application/vnd.jupyter.widget-view+json": {
              "model_id": "32e4385c050341e68b59e55886d62f5b",
              "version_minor": 0,
              "version_major": 2
            },
            "text/plain": [
              "interactive(children=(IntSlider(value=10, description='k', max=30, min=-10), Button(description='Run Interact'…"
            ]
          },
          "metadata": {
            "tags": []
          }
        }
      ]
    },
    {
      "cell_type": "markdown",
      "metadata": {
        "id": "edUnB0oU-oQG",
        "colab_type": "text"
      },
      "source": [
        "#References\n",
        "\n",
        "1. Neuromatch [RL Tutorial](https://github.com/NeuromatchAcademy/course-content/tree/master/tutorials/W2D5_ReinforcementLearning)\n",
        "2. [RL an introduction -solutions](https://github.com/JaeDukSeo/reinforcement-learning-an-introduction/blob/master/chapter02/TenArmedTestbed.py)\n",
        "3. [RL an introduction, second edition](http://www.incompleteideas.net/book/the-book.html)"
      ]
    }
  ]
}