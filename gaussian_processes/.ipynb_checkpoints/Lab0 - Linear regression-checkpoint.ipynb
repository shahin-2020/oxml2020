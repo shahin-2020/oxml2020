{
 "cells": [
  {
   "cell_type": "code",
   "execution_count": 1,
   "metadata": {
    "ExecuteTime": {
     "end_time": "2017-10-12T15:52:27.824866Z",
     "start_time": "2017-10-12T15:52:27.614941Z"
    }
   },
   "outputs": [],
   "source": [
    "import numpy as np\n",
    "from matplotlib import pyplot as plt\n",
    "%matplotlib inline"
   ]
  },
  {
   "cell_type": "markdown",
   "metadata": {},
   "source": [
    "# Linear regression: a tutorial\n",
    "### James Hensman 2017 - 2019"
   ]
  },
  {
   "cell_type": "markdown",
   "metadata": {},
   "source": [
    "##  Maximum likelihood linear regression"
   ]
  },
  {
   "cell_type": "markdown",
   "metadata": {},
   "source": [
    "Probably the most basic model in statistics is linear regression. We're given some data in the form of input-output pairs $(x_i, y_i)$, and we're asked \"what can you tell me about the value of $y$ at a new $x$?\", and as the simplest model we assume a linear relationship between input and output.\n",
    "\n",
    "In python, we stack the pairs into numpy arrays like this:"
   ]
  },
  {
   "cell_type": "code",
   "execution_count": 2,
   "metadata": {
    "ExecuteTime": {
     "end_time": "2017-10-12T15:56:06.313534Z",
     "start_time": "2017-10-12T15:56:06.212083Z"
    }
   },
   "outputs": [
    {
     "data": {
      "text/plain": [
       "[<matplotlib.lines.Line2D at 0x7f64282db898>]"
      ]
     },
     "execution_count": 2,
     "metadata": {},
     "output_type": "execute_result"
    },
    {
     "data": {
      "image/png": "[encoded data removed]",
      "text/plain": [
       "<matplotlib.figure.Figure at 0x7f6426f17710>"
      ]
     },
     "metadata": {},
     "output_type": "display_data"
    }
   ],
   "source": [
    "# let's make up a very simple dataset\n",
    "x_list = [-2, -1, 0, 1, 2]\n",
    "X = np.array(x_list).reshape(-1, 1)  # note the shape convention\n",
    "# this makes it easier to generalise the code to multiple dimensions\n",
    "y_list = [-3.6, -2.05, -1.15, 0.1, 1.8]\n",
    "Y = np.array(y_list).reshape(-1, 1)  # note the shape convention\n",
    "\n",
    "plt.plot(X, Y, 'kx')"
   ]
  },
  {
   "cell_type": "markdown",
   "metadata": {},
   "source": [
    "The linear relationship between input and output is described by the function\n",
    "\n",
    "$f(x) = ax + b$,\n",
    "\n",
    "and we want to find the parameters $(a, b)$ in this equation.\n",
    "\n",
    "In maximum likelihood linear regression, they are determined by maximising the likelihood $p(y \\,|\\, a, b)$ under the formulation\n",
    "\n",
    "$y_i = f(x_i) + \\epsilon_i$\n",
    "\n",
    "with\n",
    "\n",
    "$\\epsilon_i \\sim \\mathcal N(0, \\sigma_n^2)$.\n",
    "\n",
    "This leads to the same result as \"least squares regression\", and this is sometimes called \"the line of best fit\".\n",
    "\n",
    "\n",
    "If we were doing \"deep learning\" we would make $f$ a much more complicated function, and then try to find some suitable parameters by gradient descent.\n",
    "In linear regression, though, there's actually a closed form solution!\n",
    "\n",
    "This is facilitated by the following two functions:"
   ]
  },
  {
   "cell_type": "code",
   "execution_count": 3,
   "metadata": {
    "ExecuteTime": {
     "end_time": "2017-10-12T16:12:22.290647Z",
     "start_time": "2017-10-12T16:12:22.283658Z"
    }
   },
   "outputs": [],
   "source": [
    "def linear_features(X):\n",
    "    \"\"\"\n",
    "    Creates a feature matrix for linear regression\n",
    "    \"\"\"\n",
    "    return np.hstack([X, np.ones((X.shape[0], 1))])\n",
    "\n",
    "def ml_linear_regression(X, Y, features):\n",
    "    \"\"\"\n",
    "    Returns the maximum likelihood parameters for linear regression\n",
    "    \"\"\"\n",
    "    Phi = features(X)\n",
    "    return np.linalg.solve(np.dot(Phi.T, Phi), np.dot(Phi.T, Y))"
   ]
  },
  {
   "cell_type": "markdown",
   "metadata": {},
   "source": [
    "#### Ex. 1. \n",
    "\n",
    "a) Use the above functions to estimate the parameters $(a, b)$. Do they seem sensible?"
   ]
  },
  {
   "cell_type": "markdown",
   "metadata": {},
   "source": [
    "b) What is the ML prediction for $f(0.5)$?"
   ]
  },
  {
   "cell_type": "markdown",
   "metadata": {},
   "source": [
    "c) Plot the maximum likelihood straight line through the data"
   ]
  },
  {
   "cell_type": "markdown",
   "metadata": {},
   "source": [
    "d) Why does `linear_features` add a column of ones to the data?"
   ]
  },
  {
   "cell_type": "markdown",
   "metadata": {},
   "source": [
    "e) (advanced) What happened to $\\sigma_n^2$? Why doesn't if affect the answer?"
   ]
  },
  {
   "cell_type": "markdown",
   "metadata": {},
   "source": [
    "f) (advanced) Derive the expression we've used for the ML estimator."
   ]
  },
  {
   "cell_type": "code",
   "execution_count": null,
   "metadata": {
    "ExecuteTime": {
     "end_time": "2017-10-12T16:26:42.179921Z",
     "start_time": "2017-10-12T16:26:42.175411Z"
    },
    "collapsed": true
   },
   "outputs": [],
   "source": [
    "# Your answers here. \n",
    "\n",
    "# For help with the notebook, click on the \"Help\" menu, press [F1] or type \"ctrl-m h\". \n",
    "# For help with understanding, ask a team member!"
   ]
  },
  {
   "cell_type": "markdown",
   "metadata": {},
   "source": [
    "## Bayesian Linear regression"
   ]
  },
  {
   "cell_type": "markdown",
   "metadata": {},
   "source": [
    "We saw in the lecture that Bayesian linear regression means starting from a prior distribution over functions and moving to a posterior distribution. In this section we'll examine some functions under the prior and posterior distributions.\n",
    "\n"
   ]
  },
  {
   "cell_type": "markdown",
   "metadata": {},
   "source": [
    "### Draws from the prior\n",
    "\n",
    "Since we have two parameters, we need a two-dimensional prior distribution. Here we use the multivariate normal distribution, which is defined by the mean vector $\\boldsymbol \\mu_0$ and the covariance matrix $\\mathbf \\Sigma_0$.\n",
    "In maths we write\n",
    "\n",
    "$p(\\boldsymbol \\theta) = \\mathcal N(\\boldsymbol \\mu_0,\\, \\mathbf \\Sigma_0)$.\n",
    "\n",
    "A sensible prior distribution is:"
   ]
  },
  {
   "cell_type": "code",
   "execution_count": null,
   "metadata": {
    "ExecuteTime": {
     "end_time": "2017-10-12T16:45:39.848443Z",
     "start_time": "2017-10-12T16:45:39.841525Z"
    },
    "collapsed": true
   },
   "outputs": [],
   "source": [
    "mu_0 = np.zeros((2, 1))\n",
    "Sigma_0 = np.eye(2)"
   ]
  },
  {
   "cell_type": "markdown",
   "metadata": {},
   "source": [
    "Here are some helper functions:"
   ]
  },
  {
   "cell_type": "code",
   "execution_count": null,
   "metadata": {
    "ExecuteTime": {
     "end_time": "2017-10-12T16:44:46.894382Z",
     "start_time": "2017-10-12T16:44:46.879773Z"
    },
    "collapsed": true
   },
   "outputs": [],
   "source": [
    "def sample_theta(mu, Sigma):\n",
    "    \"\"\"\n",
    "    For a given distribution, sample a vector for theta\n",
    "    \"\"\"\n",
    "    sample = mu + np.dot(np.linalg.cholesky(Sigma), np.random.randn(mu.size, 1))\n",
    "    return sample\n",
    "\n",
    "def plot_linear_function(theta, lower=-3, upper=3):\n",
    "    \"\"\"\n",
    "    Plot a linear function with parameters theta over the range (lower, upper)\n",
    "    \"\"\"\n",
    "    Xtest = np.linspace(lower, upper, 200).reshape(-1, 1)\n",
    "    Phi = linear_features(Xtest)\n",
    "    f = np.dot(Phi, theta)\n",
    "    plt.plot(Xtest, f)"
   ]
  },
  {
   "cell_type": "markdown",
   "metadata": {},
   "source": [
    "#### Ex. 2\n",
    "a) Use (maybe modify?) the above helper functions to plot 10 samples from the prior on the same figure."
   ]
  },
  {
   "cell_type": "markdown",
   "metadata": {},
   "source": [
    "b) Change the prior. Can you interpret what happens by plotting? For example, try `Sigma_0 = np.array([[1., 0], [0, 0.001]])`"
   ]
  },
  {
   "cell_type": "code",
   "execution_count": null,
   "metadata": {
    "collapsed": true
   },
   "outputs": [],
   "source": [
    "# Your answers here."
   ]
  },
  {
   "cell_type": "markdown",
   "metadata": {},
   "source": [
    "### Draws from the posterior"
   ]
  },
  {
   "cell_type": "markdown",
   "metadata": {},
   "source": [
    "Much like maximum likelihood linear regression, Bayesian linear regression has a closed form. Here's a helper:\n"
   ]
  },
  {
   "cell_type": "code",
   "execution_count": null,
   "metadata": {
    "ExecuteTime": {
     "end_time": "2017-10-12T16:31:03.567906Z",
     "start_time": "2017-10-12T16:31:03.553003Z"
    },
    "collapsed": true
   },
   "outputs": [],
   "source": [
    "def bayesian_linear_regression(X, Y, features, mu_0, Sigma_0, sigma_n):\n",
    "    \"\"\"\n",
    "    Returns the posterior distribution (mu_p, Sigma_p) \n",
    "    of the parameters theta in Bayesian linear regression\n",
    "    \"\"\"\n",
    "    precision = np.linalg.inv(Sigma_0)\n",
    "    Phi = features(X)\n",
    "    \n",
    "    Sigma_p = np.linalg.inv(precision + np.dot(Phi.T, Phi) / sigma_n ** 2)\n",
    "    mu_p = np.dot(Sigma_p, np.dot(precision, mu_0 + np.dot(Phi.T, Y) / sigma_n **2))\n",
    "    \n",
    "    return mu_p, Sigma_p"
   ]
  },
  {
   "cell_type": "markdown",
   "metadata": {},
   "source": [
    "#### Ex. 3.\n",
    "a) Improve the docstring in `bayesian_linear_regression` by adding type annotation :p"
   ]
  },
  {
   "cell_type": "markdown",
   "metadata": {},
   "source": [
    "b) Compute the posterior distribution for our tiny dataset. What's the relationship between `mu_p` and the maximum-likelihood estimate?"
   ]
  },
  {
   "cell_type": "markdown",
   "metadata": {},
   "source": [
    "c) Draw and plot 100 functions from the posterior."
   ]
  },
  {
   "cell_type": "markdown",
   "metadata": {},
   "source": [
    "d) How can we pick a sensible value for $\\sigma_n$?"
   ]
  },
  {
   "cell_type": "markdown",
   "metadata": {},
   "source": [
    "e) What would happen if we had more (or fewer) data? Generate your own dataset and find out."
   ]
  },
  {
   "cell_type": "code",
   "execution_count": null,
   "metadata": {
    "ExecuteTime": {
     "end_time": "2017-10-02T15:25:37.786277Z",
     "start_time": "2017-10-02T15:25:37.782056Z"
    },
    "collapsed": true
   },
   "outputs": [],
   "source": [
    "# Your answers here."
   ]
  },
  {
   "cell_type": "markdown",
   "metadata": {},
   "source": [
    "## Linear regression with non-linear basis functions\n",
    "\n",
    "Linear regression can approximate nonlinear functions using nonlinear basis functions. It's still called linear regression because the relationship between the output and the *_basis_* is linear, even though the relationship between the output and the *input* might not be.\n",
    "How can we use this stuff to learn nonlinear functions? The usual answer is to project the problem into some features space. Don't worry if that sounds hard: we just have to replace the `linear_features` function above, and we'll be rollin'.\n"
   ]
  },
  {
   "cell_type": "markdown",
   "metadata": {},
   "source": [
    "### Radial Basis Function networks\n",
    "Radial basis function networks is a \"neural network\" that is actually just linear regression on some flexible features. The form of the features is:\n",
    "\n",
    "$\\phi_i(x) = \\exp(-(x - c_i) / \\ell^2)$,\n",
    "\n",
    "where the parameters $c_i$ are so-called 'centers' of the radial basis functions (we will assume them to be located on a regular grid), and $\\ell$ is the width. Here's a simple implementation."
   ]
  },
  {
   "cell_type": "code",
   "execution_count": null,
   "metadata": {
    "ExecuteTime": {
     "end_time": "2017-10-12T16:53:31.761291Z",
     "start_time": "2017-10-12T16:53:31.750527Z"
    },
    "collapsed": true
   },
   "outputs": [],
   "source": [
    "class RBFFeatures(object):\n",
    "    def __init__(self, centers, width):\n",
    "        self.centers, self.width = centers, width\n",
    "    def __call__(self, X):\n",
    "        return np.exp(-np.square((X - self.centers) / self.width))"
   ]
  },
  {
   "cell_type": "markdown",
   "metadata": {},
   "source": [
    "To illustrate this model, we're going to need a more interesting dataset. Here's one:"
   ]
  },
  {
   "cell_type": "code",
   "execution_count": null,
   "metadata": {
    "ExecuteTime": {
     "end_time": "2017-10-12T16:53:35.056432Z",
     "start_time": "2017-10-12T16:53:34.954207Z"
    },
    "collapsed": true
   },
   "outputs": [],
   "source": [
    "X = np.sort(np.random.rand(100)).reshape(-1,1)\n",
    "Y = np.sin(18 * X) + 2.5 * np.cos(5 * X) + 0.5 * np.random.randn(*X.shape)\n",
    "plt.plot(X, Y, 'kx')"
   ]
  },
  {
   "cell_type": "markdown",
   "metadata": {},
   "source": [
    "Here's a sensible but rather arbitrary set of features and a prior distribution for the parameters."
   ]
  },
  {
   "cell_type": "code",
   "execution_count": null,
   "metadata": {
    "ExecuteTime": {
     "end_time": "2017-10-12T17:13:25.076645Z",
     "start_time": "2017-10-12T17:13:25.070210Z"
    },
    "collapsed": true
   },
   "outputs": [],
   "source": [
    "N_centers = 5\n",
    "c = np.linspace(0, 1, N_centers)\n",
    "width = 0.1\n",
    "f = RBFFeatures(c, width)\n",
    "\n",
    "mu_0 = np.zeros((10, N_centers))\n",
    "Sigma_0 = np.eye(N_centers)"
   ]
  },
  {
   "cell_type": "markdown",
   "metadata": {},
   "source": [
    "#### Ex. 4\n",
    "\n",
    "a) Can you plot a sample from this prior? What happens to the functions away from the centers?"
   ]
  },
  {
   "cell_type": "markdown",
   "metadata": {},
   "source": [
    "b) Compute the posterior and plot some sample functions. (hint: try `sigma_n = 0.5`)"
   ]
  },
  {
   "cell_type": "markdown",
   "metadata": {},
   "source": [
    "c) What happens to the *posterior* functions away from the centers?"
   ]
  },
  {
   "cell_type": "markdown",
   "metadata": {},
   "source": [
    "d) What is the effect of using more / fewer basis functions?"
   ]
  },
  {
   "cell_type": "markdown",
   "metadata": {},
   "source": [
    "e) What is the effect of the width parameter? "
   ]
  },
  {
   "cell_type": "markdown",
   "metadata": {},
   "source": [
    "f) How on earth are we going to set all of these parameters??!?"
   ]
  },
  {
   "cell_type": "markdown",
   "metadata": {},
   "source": [
    "g) (advanced) Can the fit be improved by optimizing the location of the basis functions?"
   ]
  },
  {
   "cell_type": "code",
   "execution_count": null,
   "metadata": {
    "collapsed": true
   },
   "outputs": [],
   "source": []
  }
 ],
 "metadata": {
  "kernelspec": {
   "display_name": "Python 3",
   "language": "python",
   "name": "python3"
  },
  "language_info": {
   "codemirror_mode": {
    "name": "ipython",
    "version": 3
   },
   "file_extension": ".py",
   "mimetype": "text/x-python",
   "name": "python",
   "nbconvert_exporter": "python",
   "pygments_lexer": "ipython3",
   "version": "3.8.5"
  }
 },
 "nbformat": 4,
 "nbformat_minor": 2
}
